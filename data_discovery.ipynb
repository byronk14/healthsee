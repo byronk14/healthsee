{
 "cells": [
  {
   "cell_type": "code",
   "execution_count": null,
   "metadata": {},
   "outputs": [],
   "source": [
    "import pandas as pd\n",
    "from uszipcode import SearchEngine\n",
    "import matplotlib.pyplot as plt\n",
    "import numpy as np\n",
    "from datetime import datetime"
   ]
  },
  {
   "cell_type": "code",
   "execution_count": null,
   "metadata": {},
   "outputs": [],
   "source": [
    "search = SearchEngine(simple_zipcode=False) # Gives a lot of interesting data if set to False\n",
    "slalom_latitude = 33.854473\n",
    "slalom_longitude = -84.360729\n",
    "\n",
    "closest_zip_codes = search.by_coordinates(slalom_latitude, slalom_longitude, radius=10, returns=1000)\n",
    "closest_zip_codes = list(map(lambda x: x.zipcode, closest_zip_codes))\n",
    "\n",
    "print(len(closest_zip_codes))"
   ]
  },
  {
   "cell_type": "code",
   "execution_count": null,
   "metadata": {},
   "outputs": [],
   "source": [
    "search"
   ]
  },
  {
   "cell_type": "code",
   "execution_count": null,
   "metadata": {},
   "outputs": [],
   "source": [
    "df_2018 = pd.read_csv('Data/2018-12.csv')"
   ]
  },
  {
   "cell_type": "code",
   "execution_count": null,
   "metadata": {},
   "outputs": [],
   "source": [
    "df_2018.head()"
   ]
  },
  {
   "cell_type": "code",
   "execution_count": null,
   "metadata": {},
   "outputs": [],
   "source": [
    "# Clean up zip codes\n",
    "df_2018['ZIP_CD'] = df_2018['ZIP_CD'].astype(str).replace('\\.0', '', regex=True)\n",
    "\n",
    "closest = df_2018[df_2018['ZIP_CD'].isin(closest_zip_codes)]\n",
    "'''\n",
    "Want Active Providers PGM_TRMNTN_CD == '0'\n",
    "'''\n",
    "closest[['FAC_NAME', 'PRVDR_CTGRY_CD','PGM_TRMNTN_CD', 'TRMNTN_EXPRTN_DT', 'CRTFD_BED_CNT']]"
   ]
  },
  {
   "cell_type": "code",
   "execution_count": null,
   "metadata": {
    "scrolled": false
   },
   "outputs": [],
   "source": [
    "print('number of zipcodes within 10 miles of Slalom: ' ,len(closest_zip_codes))\n",
    "#print(closest[closest.duplicated(subset = ['FAC_NAME'])]['FAC_NAME'])\n",
    "print('number of unique facilities within these zipcodes: ', len(closest['FAC_NAME'].unique()))\n",
    "provider_status_counts_dict = closest['PGM_TRMNTN_CD'].value_counts().to_dict()\n",
    "PGM_TRMNTN_CD_DICT = {\n",
    "    0: 'ACTIVE PROVIDER',\n",
    "    1: 'VOLUNTARY-MERGER, CLOSURE',\n",
    "    4: 'VOLUNTARY-OTHER REASON FOR WITHDRAWAL',\n",
    "    5: 'INVOLUNTARY-FAILURE TO MEET HEALTH/SAFETY REQ',\n",
    "    7: 'OTHER-PROVIDER STATUS CHANGE'\n",
    "}\n",
    "\n",
    "print('\\n# of Facilities by city')\n",
    "fac_by_city_dict = closest['CITY_NAME'].value_counts().to_dict()\n",
    "[print(k,':', v) for k,v in fac_by_city_dict.items()]\n",
    "\n",
    "print('\\nProvider status counts:')\n",
    "[print(PGM_TRMNTN_CD_DICT[k],\":\", v) for k,v  in provider_status_counts_dict.items()]\n",
    "\n",
    "bed_cnt_dict = {}\n",
    "print('\\nTOP 10 Largest Facilities by Bed Count')\n",
    "for index, row in closest[['FAC_NAME','BED_CNT']].sort_values(by='BED_CNT', ascending=False)[:10].iterrows():\n",
    "    print(row['FAC_NAME'], row['BED_CNT'])\n",
    "    bed_cnt_dict[row['FAC_NAME']] = row['BED_CNT']\n",
    "\n",
    "y_pos = np.arange(10)\n",
    "plt.bar(y_pos, bed_cnt_dict.values(), align='center', alpha=0.5)\n",
    "plt.xticks(y_pos, bed_cnt_dict.keys())\n",
    "plt.xticks(rotation=90)\n",
    "plt.ylabel('#')\n",
    "plt.title('Top 10 largest Facilities by Bed Count')\n",
    "plt.show()\n",
    "\n",
    "print('\\n# of times facility undergone change of ownership')\n",
    "chow_cnt_dict = closest['CHOW_CNT'].value_counts().to_dict()\n",
    "[print(k,':', v) for k,v in chow_cnt_dict.items()]\n",
    "\n",
    "print('\\nUrban or Rural')\n",
    "ur_dict = closest['CBSA_URBN_RRL_IND'].value_counts().to_dict()\n",
    "[print(k,':', v) for k,v in ur_dict.items()]\n",
    "\n",
    "closest['ORGNL_PRTCPTN_DT'] = pd.to_datetime(closest['ORGNL_PRTCPTN_DT'], format='%Y%M%d')\n",
    "closest['Age_of_facility'] = datetime.today().year - closest['ORGNL_PRTCPTN_DT'].dt.year\n",
    "closest[['FAC_NAME', 'Age_of_facility']].sort_values(by='Age_of_facility', ascending=False)\n",
    "facility_age_dict = dict(zip(closest.FAC_NAME, closest.Age_of_facility))\n",
    "\n",
    "plt.hist(facility_age_dict.values(), 10)\n",
    "plt.ylabel('# of Facilities')\n",
    "plt.xlabel('Age')\n",
    "plt.title('Facility Age')\n",
    "plt.show()\n",
    "   \n",
    "    \n",
    "    \n",
    "    \n",
    "    \n",
    "    "
   ]
  },
  {
   "cell_type": "code",
   "execution_count": null,
   "metadata": {},
   "outputs": [],
   "source": []
  }
 ],
 "metadata": {
  "kernelspec": {
   "display_name": "Python 3",
   "language": "python",
   "name": "python3"
  },
  "language_info": {
   "codemirror_mode": {
    "name": "ipython",
    "version": 3
   },
   "file_extension": ".py",
   "mimetype": "text/x-python",
   "name": "python",
   "nbconvert_exporter": "python",
   "pygments_lexer": "ipython3",
   "version": "3.7.2"
  }
 },
 "nbformat": 4,
 "nbformat_minor": 2
}
