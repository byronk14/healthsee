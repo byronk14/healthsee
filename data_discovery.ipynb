{
 "cells": [
  {
   "cell_type": "code",
   "execution_count": null,
   "metadata": {},
   "outputs": [],
   "source": [
    "import pandas as pd\n",
    "from uszipcode import SearchEngine"
   ]
  },
  {
   "cell_type": "code",
   "execution_count": null,
   "metadata": {},
   "outputs": [],
   "source": [
    "search = SearchEngine(simple_zipcode=False) # Gives a lot of interesting data if set to False\n",
    "slalom_latitude = 33.854473\n",
    "slalom_longitude = -84.360729\n",
    "\n",
    "closest_zip_codes = search.by_coordinates(slalom_latitude, slalom_longitude, radius=10, returns=1000)\n",
    "closest_zip_codes = list(map(lambda x: x.zipcode, closest_zip_codes))\n",
    "\n",
    "print(len(closest_zip_codes))"
   ]
  },
  {
   "cell_type": "code",
   "execution_count": null,
   "metadata": {},
   "outputs": [],
   "source": [
    "df_2018 = pd.read_csv('Data/2018-12.csv')"
   ]
  },
  {
   "cell_type": "code",
   "execution_count": null,
   "metadata": {},
   "outputs": [],
   "source": [
    "# Clean up zip codes\n",
    "df_2018['ZIP_CD'] = df_2018['ZIP_CD'].astype(str).replace('\\.0', '', regex=True)\n",
    "\n",
    "closest = df_2018[df_2018['ZIP_CD'].isin(closest_zip_codes)]\n",
    "'''\n",
    "Want Active Providers PGM_TRMNTN_CD == '0'\n",
    "'''\n",
    "closest[['FAC_NAME', 'PRVDR_CTGRY_CD','PGM_TRMNTN_CD', 'TRMNTN_EXPRTN_DT', 'CRTFD_BED_CNT']]\n",
    "\n"
   ]
  },
  {
   "cell_type": "code",
   "execution_count": null,
   "metadata": {},
   "outputs": [],
   "source": []
  },
  {
   "cell_type": "code",
   "execution_count": null,
   "metadata": {},
   "outputs": [],
   "source": []
  }
 ],
 "metadata": {
  "kernelspec": {
   "display_name": "Python 3",
   "language": "python",
   "name": "python3"
  },
  "language_info": {
   "codemirror_mode": {
    "name": "ipython",
    "version": 3
   },
   "file_extension": ".py",
   "mimetype": "text/x-python",
   "name": "python",
   "nbconvert_exporter": "python",
   "pygments_lexer": "ipython3",
   "version": "3.7.2"
  }
 },
 "nbformat": 4,
 "nbformat_minor": 2
}
